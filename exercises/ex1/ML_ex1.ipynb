{
 "cells": [
  {
   "cell_type": "code",
   "execution_count": 5,
   "metadata": {
    "collapsed": false
   },
   "outputs": [
    {
     "name": "stdout",
     "output_type": "stream",
     "text": [
      "\n"
     ]
    }
   ],
   "source": [
    "#! /Users/sspalding/tensorflow/bin/python\n",
    "# Basic Linear Regression implemented using numpy\n",
    "# and Goggle's TensorFlow library\n",
    "%matplotlib inline\n",
    "import numpy as np\n",
    "import matplotlib.pyplot as plt\n",
    "import tensorflow as tf\n",
    "import os\n",
    "import sys"
   ]
  },
  {
   "cell_type": "code",
   "execution_count": 6,
   "metadata": {
    "collapsed": true
   },
   "outputs": [],
   "source": [
    "## Solve using numpy\n",
    "def computeCost(X, y, theta):\n",
    "    \"\"\" J = (1/2/m)*(X*theta-y)'*(X*theta-y) \"\"\"\n",
    "    m = len(y)\n",
    "    A = X.dot(theta) - y\n",
    "    return float(.5/m * A.T.dot(A))\n",
    "\n",
    "def gradientDescent(X, y, theta, alpha, iterations):\n",
    "    \"\"\" theta = theta - alpha/m * X' * (X*theta - y) \"\"\"\n",
    "    m = len(y)\n",
    "    for i in xrange(iterations):\n",
    "        theta = theta - alpha/m * X.T.dot(X.dot(theta) - y)\n",
    "    return theta"
   ]
  },
  {
   "cell_type": "code",
   "execution_count": 7,
   "metadata": {
    "collapsed": true
   },
   "outputs": [],
   "source": [
    "## Solve using TensorFlow\n",
    "def TFcomputeCost(X, y, theta):\n",
    "    \"\"\" J = (1/2/m)*(X*theta-y)'*(X*theta-y) \"\"\"\n",
    "    m = len(y)\n",
    "    X,y,theta = [tf.constant(e) for e in [X,y,theta]]\n",
    "\n",
    "    A = tf.sub(tf.matmul(X, theta), y)\n",
    "    B = tf.matmul(tf.transpose(A),A)\n",
    "    with tf.Session() as sess:\n",
    "        result = sess.run(B)\n",
    "    return float(.5/m * result)\n",
    "\n",
    "def TFgradientDescent(X, y, theta, alpha, iterations):\n",
    "    \"\"\" theta = theta - alpha/m * X' * (X*theta - y) \"\"\"\n",
    "    m = len(y)\n",
    "    X,y,alpha,m = [tf.constant(e, dtype=tf.float64)\n",
    "                       for e in [X,y,alpha,m]]\n",
    "    theta = tf.Variable(theta)\n",
    "    init = tf.initialize_all_variables()\n",
    "    sess = tf.Session()\n",
    "    sess.run(init)\n",
    "    for i in xrange(iterations):\n",
    "        delta = tf.mul(tf.div(alpha,m),\n",
    "                            tf.matmul(\n",
    "                                tf.transpose(X),\n",
    "                                tf.sub(tf.matmul(X,theta), y)))\n",
    "        theta_ = tf.sub(theta, delta)\n",
    "        theta = sess.run(theta_)\n",
    "    sess.close()\n",
    "    return theta"
   ]
  },
  {
   "cell_type": "code",
   "execution_count": 8,
   "metadata": {
    "collapsed": false
   },
   "outputs": [
    {
     "name": "stdout",
     "output_type": "stream",
     "text": [
      "Initial theta:  0.000000 0.000000\n",
      "Initial Cost:  32.0727338775\n",
      "TensorFlow Initial Cost:  32.0727338775\n",
      "Theta found by gradient descent:  -3.630291 1.166362\n",
      "Theta found by TensorFlow gradient descent:  0.000000 0.000000\n",
      "X= 1700, y= 1979.18570413\n"
     ]
    },
    {
     "data": {
      "image/png": "[encoded data removed]",
      "text/plain": [
       "<matplotlib.figure.Figure at 0x10ce3f810>"
      ]
     },
     "metadata": {},
     "output_type": "display_data"
    }
   ],
   "source": [
    "# Load data from file\n",
    "X,y = np.loadtxt('ex1data1.txt',dtype='float',delimiter=',').T\n",
    "m = len(y)\n",
    "\n",
    "# Plot Training Data\n",
    "plt.plot(X,y, 'rs', label='Training data')\n",
    "\n",
    "# Add a column of ones to X\n",
    "X = np.array((np.ones(m),X)).T\n",
    "# Convert y from vector -> matrix\n",
    "y.shape = (m,1)\n",
    "# Initialize fitting parameters\n",
    "theta = np.zeros((2,1))\n",
    "TFtheta = np.zeros((2,1))\n",
    "# Some gradient descent settings\n",
    "iterations = 1500\n",
    "alpha = 0.01\n",
    "\n",
    "# Compute and display initial cost\n",
    "print \"Initial theta: \",\n",
    "print '%f %f'%(theta[0], theta[1])\n",
    "print \"Initial Cost: \", computeCost(X, y, theta)\n",
    "print \"TensorFlow Initial Cost: \", TFcomputeCost(X, y, TFtheta)\n",
    "\n",
    "# Run gradient descent\n",
    "theta = gradientDescent(X, y, theta, alpha, iterations)\n",
    "# TFtheta = TFgradientDescent(X, y, TFtheta, alpha, iterations)\n",
    "\n",
    "# Print theta to screen\n",
    "print 'Theta found by gradient descent: ',\n",
    "print '%f %f'%(theta[0], theta[1])\n",
    "print 'Theta found by TensorFlow gradient descent: ',\n",
    "print '%f %f'%(TFtheta[0], TFtheta[1])\n",
    "\n",
    "# Plot the linear fit\n",
    "plt.plot(X[:,1], X.dot(theta),'-',label='Linear regression')\n",
    "legend = plt.legend(loc='lower right', shadow=True, fontsize='x-large')\n",
    "print \"X= 1700, y=\",np.array([1, 1700]).dot(theta)[0]\n",
    "\n",
    "plt.show()"
   ]
  }
 ],
 "metadata": {
  "kernelspec": {
   "display_name": "Python 2",
   "language": "python",
   "name": "python2"
  },
  "language_info": {
   "codemirror_mode": {
    "name": "ipython",
    "version": 2
   },
   "file_extension": ".py",
   "mimetype": "text/x-python",
   "name": "python",
   "nbconvert_exporter": "python",
   "pygments_lexer": "ipython2",
   "version": "2.7.10"
  }
 },
 "nbformat": 4,
 "nbformat_minor": 0
}
